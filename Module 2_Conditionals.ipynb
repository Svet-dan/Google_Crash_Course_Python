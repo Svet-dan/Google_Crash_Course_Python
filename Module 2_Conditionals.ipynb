{
 "cells": [
  {
   "cell_type": "markdown",
   "id": "83610045-3aad-4419-9c12-55651f93bc50",
   "metadata": {},
   "source": [
    "# Google: Crash Course on Python"
   ]
  },
  {
   "cell_type": "markdown",
   "id": "4fed223a-6d7e-40e6-a95d-f550ce8b5ffb",
   "metadata": {},
   "source": [
    "## Module 2"
   ]
  },
  {
   "cell_type": "markdown",
   "id": "cd0a910d-f8e3-442e-ad29-54165a942248",
   "metadata": {},
   "source": [
    "### <span style='background :yellow' >Conditionals</span>"
   ]
  },
  {
   "cell_type": "markdown",
   "id": "6e192e65-e250-4fd8-a968-7f65b2305af5",
   "metadata": {},
   "source": [
    "**Boolean:**  (#логическое значение)"
   ]
  },
  {
   "cell_type": "markdown",
   "id": "121bb8ac-2adb-4ddc-aceb-010bc2c38ab9",
   "metadata": {},
   "source": [
    "One of the possible states <span style='color:Blue'>**true** </span> or <span style='color:Blue'>**false**</span> "
   ]
  },
  {
   "cell_type": "markdown",
   "id": "1c5a0f42-ad85-41cb-b985-f314024544a4",
   "metadata": {},
   "source": [
    "<span style='color:Red'>**Example: < and > operator** </span>"
   ]
  },
  {
   "cell_type": "code",
   "execution_count": 15,
   "id": "2cbc34ce-cbaf-4acc-a547-4a784dde79d4",
   "metadata": {},
   "outputs": [
    {
     "name": "stdout",
     "output_type": "stream",
     "text": [
      "False\n"
     ]
    }
   ],
   "source": [
    "print(10<1)"
   ]
  },
  {
   "cell_type": "code",
   "execution_count": 17,
   "id": "81f6361d-49d9-49ae-a4d3-5539d67f206a",
   "metadata": {},
   "outputs": [
    {
     "name": "stdout",
     "output_type": "stream",
     "text": [
      "True\n"
     ]
    }
   ],
   "source": [
    "print(10>1)"
   ]
  },
  {
   "cell_type": "markdown",
   "id": "9a087d7f-7ea6-4237-9fa5-80636d5a15f7",
   "metadata": {},
   "source": [
    "<span style='color:Red'>**Example: == operator** </span>"
   ]
  },
  {
   "cell_type": "markdown",
   "id": "231afbe2-4ef2-4867-8189-ea5cf0f79b69",
   "metadata": {},
   "source": [
    "The == operator is called the **equality operator**. It is used to compare two values and returns <span style='color:Green'>**True** </span> or  if they are equal, and <span style='color:Red'>**False**</span>  otherwise"
   ]
  },
  {
   "cell_type": "code",
   "execution_count": 33,
   "id": "4bc6e226-9c31-4057-ba9a-fd3c945c46d9",
   "metadata": {},
   "outputs": [
    {
     "name": "stdout",
     "output_type": "stream",
     "text": [
      "False\n"
     ]
    }
   ],
   "source": [
    "print(\"cat\" == \"dog\")"
   ]
  },
  {
   "cell_type": "code",
   "execution_count": 45,
   "id": "7d66d5b8-9256-42e1-b76e-4fdc58a99d54",
   "metadata": {},
   "outputs": [
    {
     "name": "stdout",
     "output_type": "stream",
     "text": [
      "True\n"
     ]
    }
   ],
   "source": [
    "cat = 5\n",
    "dog = 5\n",
    "print(cat == dog)"
   ]
  },
  {
   "cell_type": "markdown",
   "id": "c1f6fcea-94e7-4d0f-a6aa-79a286bc86e2",
   "metadata": {},
   "source": [
    "**Definition** The != operator is used to check if two values are not equal. It returns True if the values are not equal and False if they are equal. For example, 3 != 4 will return True because 3 is not equal to 4.\n",
    "\n",
    "It is important to note that the != operator checks for value inequality and not identity inequality. This means that two objects with different identities but the same value will be considered equal by the != operator."
   ]
  },
  {
   "cell_type": "markdown",
   "id": "72abdd1d-a933-4d41-8c23-8f09597d2d19",
   "metadata": {},
   "source": [
    "<span style='color:Red'>**Example: !=** </span>"
   ]
  },
  {
   "cell_type": "code",
   "execution_count": 57,
   "id": "e06b4a8b-ad99-4fe9-a11b-b7bf2d365701",
   "metadata": {},
   "outputs": [
    {
     "name": "stdout",
     "output_type": "stream",
     "text": [
      "True\n"
     ]
    }
   ],
   "source": [
    "print(1!=2)"
   ]
  },
  {
   "cell_type": "code",
   "execution_count": 63,
   "id": "54877642-5060-48c0-ba03-95fa0a6c2a63",
   "metadata": {},
   "outputs": [
    {
     "ename": "TypeError",
     "evalue": "'>' not supported between instances of 'int' and 'str'",
     "output_type": "error",
     "traceback": [
      "\u001b[0;31m---------------------------------------------------------------------------\u001b[0m",
      "\u001b[0;31mTypeError\u001b[0m                                 Traceback (most recent call last)",
      "Cell \u001b[0;32mIn[63], line 1\u001b[0m\n\u001b[0;32m----> 1\u001b[0m \u001b[38;5;28mprint\u001b[39m(\u001b[38;5;241m1\u001b[39m\u001b[38;5;241m>\u001b[39m\u001b[38;5;124m\"\u001b[39m\u001b[38;5;124m1\u001b[39m\u001b[38;5;124m\"\u001b[39m)\n",
      "\u001b[0;31mTypeError\u001b[0m: '>' not supported between instances of 'int' and 'str'"
     ]
    }
   ],
   "source": [
    "print(1>\"1\")"
   ]
  },
  {
   "cell_type": "code",
   "execution_count": 65,
   "id": "8e3bec4f-acbe-44cc-87fc-3dd3ebb47a41",
   "metadata": {},
   "outputs": [
    {
     "name": "stdout",
     "output_type": "stream",
     "text": [
      "False\n"
     ]
    }
   ],
   "source": [
    "print(1 == \"1\")"
   ]
  },
  {
   "cell_type": "markdown",
   "id": "7ea7e84e-5fd6-442f-8d21-34c4279ca0a2",
   "metadata": {},
   "source": [
    "### <span style='background :yellow' >Logical Operators: And, Or, Not</span>"
   ]
  },
  {
   "cell_type": "markdown",
   "id": "5194344e-c4ac-4a65-8318-b203376a12d6",
   "metadata": {},
   "source": [
    "**AND** Operator  \n",
    "The and operator is a logical operator that is used to combine two or more conditions in a boolean expression. It returns True if all the conditions are True, and False otherwise"
   ]
  },
  {
   "cell_type": "code",
   "execution_count": 73,
   "id": "32e53109-9fca-4546-96ab-686a51831043",
   "metadata": {},
   "outputs": [
    {
     "name": "stdout",
     "output_type": "stream",
     "text": [
      "False\n"
     ]
    }
   ],
   "source": [
    "print(\"Yellow\" > \"Cyan\" and \"Brown\" > \"Magenta\")"
   ]
  },
  {
   "cell_type": "code",
   "execution_count": 75,
   "id": "61cbe699-7f60-4342-8f40-3ed9036a41eb",
   "metadata": {},
   "outputs": [
    {
     "name": "stdout",
     "output_type": "stream",
     "text": [
      "True\n"
     ]
    }
   ],
   "source": [
    "print(2 > 1 and 3 > 1)"
   ]
  },
  {
   "cell_type": "markdown",
   "id": "4bac4a73-daa8-4c37-ad6c-1a2c35943dca",
   "metadata": {},
   "source": [
    "**Additional Exercise**"
   ]
  },
  {
   "cell_type": "code",
   "execution_count": 87,
   "id": "ab727817-9de6-4b47-a2b5-d0cad526b787",
   "metadata": {},
   "outputs": [
    {
     "name": "stdout",
     "output_type": "stream",
     "text": [
      "Both conditions are True\n"
     ]
    }
   ],
   "source": [
    "x = 5\n",
    "y = 10\n",
    "z = 15\n",
    "\n",
    "if x < y and y < z:\n",
    "    print(\"Both conditions are True\")\n",
    "else:\n",
    "    print(\"At least one condition is False\")"
   ]
  },
  {
   "cell_type": "markdown",
   "id": "0aee374d-34c8-41fb-b1cb-779be70897f1",
   "metadata": {},
   "source": []
  },
  {
   "cell_type": "markdown",
   "id": "3861d248-3d39-44ea-9fc3-fe0089903dc2",
   "metadata": {},
   "source": [
    "**OR: Logical Operator**"
   ]
  },
  {
   "cell_type": "markdown",
   "id": "3265f89d-d26b-4548-9db3-52464fbfb5b4",
   "metadata": {},
   "source": [
    "The **or** operator is a logical operator that is used to combine two or more conditions in a boolean expression. It returns **True** if at least one of the conditions is true, and **False** otherwise."
   ]
  },
  {
   "cell_type": "code",
   "execution_count": 98,
   "id": "cdbcfe66-366f-43f9-bff2-f823cae6426a",
   "metadata": {},
   "outputs": [
    {
     "name": "stdout",
     "output_type": "stream",
     "text": [
      "True\n"
     ]
    }
   ],
   "source": [
    "print(25 > 50 or 2 != 1)"
   ]
  },
  {
   "cell_type": "code",
   "execution_count": 100,
   "id": "3b9e528a-034c-47fc-a766-510888f2082a",
   "metadata": {},
   "outputs": [
    {
     "name": "stdout",
     "output_type": "stream",
     "text": [
      "At least one condition is True\n"
     ]
    }
   ],
   "source": [
    "x = 5\n",
    "y = 10\n",
    "z = 15\n",
    "\n",
    "if x < y or y < z:\n",
    "    print(\"At least one condition is True\")\n",
    "else:\n",
    "    print(\"Both conditions are False\")"
   ]
  },
  {
   "cell_type": "markdown",
   "id": "96cfd265-2bfe-4807-8c34-9d98d40a7b19",
   "metadata": {},
   "source": [
    "**NOT: Logical Operator**"
   ]
  },
  {
   "cell_type": "markdown",
   "id": "a738c3f2-dc8a-45cf-923c-25dc997ae874",
   "metadata": {},
   "source": [
    "The **not operator** is a logical operator that is used to negate a boolean expression. It returns **True** if the expression is False, and **False** if the expression is True."
   ]
  },
  {
   "cell_type": "code",
   "execution_count": 105,
   "id": "7581f5b6-fcfd-498e-9c57-b8e3c816b0e0",
   "metadata": {},
   "outputs": [
    {
     "name": "stdout",
     "output_type": "stream",
     "text": [
      "True\n"
     ]
    }
   ],
   "source": [
    "print(not 42 == \"Answer\")"
   ]
  },
  {
   "cell_type": "code",
   "execution_count": 107,
   "id": "735d58ad-afbb-46dc-81ea-9fb58f9c50ed",
   "metadata": {},
   "outputs": [
    {
     "name": "stdout",
     "output_type": "stream",
     "text": [
      "x is True\n"
     ]
    }
   ],
   "source": [
    "x = True\n",
    "\n",
    "if not x:\n",
    "    print(\"x is False\")\n",
    "else:\n",
    "    print(\"x is True\")"
   ]
  },
  {
   "cell_type": "code",
   "execution_count": null,
   "id": "e1d8c417-3ab5-4d05-994c-34d74dd29143",
   "metadata": {},
   "outputs": [],
   "source": []
  },
  {
   "cell_type": "markdown",
   "id": "df70026f-5e05-4143-a98f-569caf23f3f4",
   "metadata": {},
   "source": [
    "**if: Operator**"
   ]
  },
  {
   "cell_type": "code",
   "execution_count": 129,
   "id": "a715d7d3-8eeb-4fd0-9549-b4293e248c03",
   "metadata": {},
   "outputs": [
    {
     "name": "stdout",
     "output_type": "stream",
     "text": [
      "Invalid user name. Must be at least 3 characters long\n"
     ]
    }
   ],
   "source": [
    "# create a code to have a username length longer than 3 symbols\n",
    "\n",
    "def hint_username(username):\n",
    "    if len(username) < 3: \n",
    "        print(\"Invalid user name. Must be at least 3 characters long\")\n",
    "\n",
    "# Test the function\n",
    "hint_username(\"Mi\")"
   ]
  },
  {
   "cell_type": "markdown",
   "id": "c6f6e931-e044-4ba6-8d32-31c09c974d90",
   "metadata": {},
   "source": [
    "**Advance version**"
   ]
  },
  {
   "cell_type": "code",
   "execution_count": 131,
   "id": "12afd077-1d0b-49fe-af1b-9803c8f354ee",
   "metadata": {},
   "outputs": [
    {
     "name": "stdout",
     "output_type": "stream",
     "text": [
      "Good password, thank you\n"
     ]
    }
   ],
   "source": [
    "def hint_username(username):\n",
    "    if len(username) < 3: \n",
    "        print(\"Invalid user name. Must be at least 3 characters long\")\n",
    "    else:\n",
    "        print(\"Good password, thank you\")\n",
    "\n",
    "# Test the function\n",
    "hint_username(\"Mike\")"
   ]
  },
  {
   "cell_type": "code",
   "execution_count": null,
   "id": "0880ab18-3849-495e-a2a8-1361dabc11c0",
   "metadata": {},
   "outputs": [],
   "source": []
  },
  {
   "cell_type": "markdown",
   "id": "29817344-929c-4177-b90a-f081457cf51f",
   "metadata": {},
   "source": [
    "**else: Operator**"
   ]
  },
  {
   "cell_type": "markdown",
   "id": "50a084ad-2bc5-4a2c-9fd4-48809aa0b77a",
   "metadata": {},
   "source": [
    "We just covered the if statement, which executes code if an evaluation is true and skips the code if it’s false. But what if we wanted the code to do something different if the evaluation is false? We can do this using the else statement. The else statement follows an if block, and is composed of the keyword else followed by a colon. The body of the else statement is indented to the right, and will be executed if the above if statement doesn’t execute."
   ]
  },
  {
   "cell_type": "markdown",
   "id": "7f6086fe-0cac-45b0-9890-e167f8f5d957",
   "metadata": {},
   "source": [
    "**elif: Operator**"
   ]
  },
  {
   "cell_type": "code",
   "execution_count": 27,
   "id": "2a503ff6-1a75-4973-a27b-668caac848df",
   "metadata": {},
   "outputs": [
    {
     "name": "stdout",
     "output_type": "stream",
     "text": [
      "Valid username\n",
      "None\n"
     ]
    }
   ],
   "source": [
    "def hint_username(username):\n",
    "    if len(username) < 3: \n",
    "        print(\"Invalid username, must be at least 3 charecters long\")\n",
    "    else:\n",
    "        if len(username) > 15:\n",
    "            print(\"Invalid username, must be at most 15 charecters long\")\n",
    "        else:\n",
    "            print(\"Valid username\")\n",
    "\n",
    "result = hint_username(\"Mike\")\n",
    "print(result)"
   ]
  },
  {
   "cell_type": "code",
   "execution_count": 34,
   "id": "5d472501-2945-4242-a307-5a021e3030e8",
   "metadata": {},
   "outputs": [
    {
     "name": "stdout",
     "output_type": "stream",
     "text": [
      "Valid username\n",
      "None\n"
     ]
    }
   ],
   "source": [
    "def hint_username(username):\n",
    "    if len(username) < 3: \n",
    "        print(\"Invalid username, must be at least 3 charecters long\")\n",
    "    elif len(username) > 15:\n",
    "        print(\"Invalid username, must be at most 15 charecters long\")\n",
    "    else:\n",
    "        print(\"Valid username\")\n",
    "\n",
    "result = hint_username(\"Mike\")\n",
    "print(result)"
   ]
  },
  {
   "cell_type": "markdown",
   "id": "71679430-97a5-4803-9c36-2d3fd2487ff3",
   "metadata": {},
   "source": [
    "Building off of the if and else blocks, which allow us to branch our code depending on the evaluation of one statement, the elif statement allows us even more comparisons to perform more complex branching. Very similar to the if statements, an elif statement starts with the elif keyword, followed by a comparison to be evaluated. This is followed by a colon, and then the code block on the next line, indented to the right. An elif statement must follow an if statement, and will only be evaluated if the if statement was evaluated as false. You can include multiple elif statements to build complex branching in your code to do all kinds of powerful things!"
   ]
  },
  {
   "cell_type": "code",
   "execution_count": null,
   "id": "2c03efc7-4800-4011-a406-fb160dd39ca6",
   "metadata": {},
   "outputs": [],
   "source": []
  }
 ],
 "metadata": {
  "kernelspec": {
   "display_name": "anaconda-panel-2023.05-py310",
   "language": "python",
   "name": "conda-env-anaconda-panel-2023.05-py310-py"
  },
  "language_info": {
   "codemirror_mode": {
    "name": "ipython",
    "version": 3
   },
   "file_extension": ".py",
   "mimetype": "text/x-python",
   "name": "python",
   "nbconvert_exporter": "python",
   "pygments_lexer": "ipython3",
   "version": "3.11.5"
  }
 },
 "nbformat": 4,
 "nbformat_minor": 5
}
