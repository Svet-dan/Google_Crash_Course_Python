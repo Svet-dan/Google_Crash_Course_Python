{
 "cells": [
  {
   "cell_type": "markdown",
   "id": "d6abd0bb-29f8-40f0-9d87-ba8060ee6a47",
   "metadata": {},
   "source": [
    "# Google: Crash Course on Python"
   ]
  },
  {
   "cell_type": "markdown",
   "id": "ad55549b-4431-4627-8aea-153a6eeda2c3",
   "metadata": {},
   "source": [
    "## Module 2"
   ]
  },
  {
   "cell_type": "markdown",
   "id": "98fd10c7-3b59-4a87-99ce-678453c0bb01",
   "metadata": {},
   "source": [
    "### <span style='background :yellow' >Functions</span>"
   ]
  },
  {
   "cell_type": "markdown",
   "id": "c980e816-bb44-4886-9bd6-5c0ed2c33721",
   "metadata": {},
   "source": [
    "**Definition:** "
   ]
  },
  {
   "cell_type": "markdown",
   "id": "711a8600-88f8-4c05-b7ff-152d6377e353",
   "metadata": {},
   "source": [
    "<span style='color:Blue'>**def** </span> - keyword used to declare a function   \n",
    "<span style='color:Blue'>**function_name**</span> - any name given to the function  \n",
    "<span style='color:Blue'>**arguments**</span> - any value passed to function  \n",
    "<span style='color:Blue'>**return**</span> (optional) - returns value from a function\n"
   ]
  },
  {
   "cell_type": "code",
   "execution_count": 131,
   "id": "76c9086a-c0dc-43a0-977a-9cd041b018a7",
   "metadata": {},
   "outputs": [],
   "source": [
    "def function_name(arguments):\n",
    "    # function body \n",
    "\n",
    "    return"
   ]
  },
  {
   "cell_type": "markdown",
   "id": "0355eaf6-118f-4c31-b374-9c13ca54fcbb",
   "metadata": {},
   "source": [
    "<span style='color:Red'>**Example:** </span>"
   ]
  },
  {
   "cell_type": "code",
   "execution_count": 33,
   "id": "511a144d-fc9e-4361-9a91-e966b9f6e2ee",
   "metadata": {},
   "outputs": [
    {
     "name": "stdout",
     "output_type": "stream",
     "text": [
      "Welcome, Kay\n"
     ]
    }
   ],
   "source": [
    "def greeting(name):\n",
    "    print(\"Welcome, \" + name)\n",
    "greeting(\"Kay\")"
   ]
  },
  {
   "cell_type": "markdown",
   "id": "8ef3b242-a240-4adf-8ddb-791b00fc2695",
   "metadata": {},
   "source": [
    "<span style='color:Red'> **Additional Exercise** </span>"
   ]
  },
  {
   "cell_type": "code",
   "execution_count": 45,
   "id": "25460eec-b5d7-421c-bb06-58babbeefbc0",
   "metadata": {},
   "outputs": [
    {
     "name": "stdout",
     "output_type": "stream",
     "text": [
      "Welcome, Ian\n",
      "You are part of IT Support team. Located on the 5th floor, Room number 259\n"
     ]
    }
   ],
   "source": [
    "def greeting(name, departmnent, floor, room):\n",
    "    print(\"Welcome, \" + name)\n",
    "    print(\"You are part of \" + departmnent + \" team.\" + \" Located on the \" + floor + \"th\" +  \" floor,\" + \" \" \"Room number \" + room)\n",
    "greeting(\"Ian\", \"IT Support\", \"5\", \"259\")"
   ]
  },
  {
   "cell_type": "code",
   "execution_count": null,
   "id": "d6f0eb3a-d73a-4cec-9b2f-3c40e7626dc9",
   "metadata": {},
   "outputs": [],
   "source": []
  },
  {
   "cell_type": "markdown",
   "id": "6e5089fd-f373-4a88-9756-c6ab7cf74134",
   "metadata": {},
   "source": [
    "### <span style='background :yellow' >Return Function</span>"
   ]
  },
  {
   "cell_type": "markdown",
   "id": "e1666c92-ea2a-4cf0-bc3c-1f5b553d645d",
   "metadata": {},
   "source": [
    "<span style='color:Blue'>**Definition** </span> - Sometimes we don't want a function to simply run and finish. We may want a function to manipulate data we passed it and then return the result to us. This is where the concept of return values comes in handy. We use the return keyword in a function, which tells the function to pass data back. When we call the function, we can store the returned value in a variable. Return values allow our functions to be more flexible and powerful, so they can be reused and called multiple times.\n",
    "\n",
    "Functions can even return multiple values. Just don't forget to store all returned values in variables! You could also have a function return nothing, in which case the function simply exits."
   ]
  },
  {
   "cell_type": "markdown",
   "id": "f9a50375-e191-4c0c-b116-9ca9fd83a060",
   "metadata": {},
   "source": [
    "<span style='color:Red'>**Example:** </span>"
   ]
  },
  {
   "cell_type": "markdown",
   "id": "5554a96a-a649-4e6d-9133-4d2dd4b20e9b",
   "metadata": {},
   "source": [
    "**Required:** calculate area of 2 triangles "
   ]
  },
  {
   "cell_type": "code",
   "execution_count": 75,
   "id": "db12f3da-aea4-46a9-9486-9003f829752f",
   "metadata": {},
   "outputs": [
    {
     "name": "stdout",
     "output_type": "stream",
     "text": [
      "The sum of both areas is: 20.5\n"
     ]
    }
   ],
   "source": [
    "def area_triangle(base, height):\n",
    "    return(base*height)/2\n",
    "    \n",
    "area_a = area_triangle(5,4)\n",
    "area_b = area_triangle(7,3)\n",
    "sum = area_a + area_b\n",
    "print(\"The sum of both areas is: \" + str(sum))\n"
   ]
  },
  {
   "cell_type": "markdown",
   "id": "59786e55-5b2a-4642-aaa6-0c1e84d719c8",
   "metadata": {},
   "source": [
    "**Optional:** area of 1st triangle: "
   ]
  },
  {
   "cell_type": "code",
   "execution_count": 85,
   "id": "e8f3c8c0-71c1-46d3-8cc4-8a822ae2913e",
   "metadata": {},
   "outputs": [
    {
     "name": "stdout",
     "output_type": "stream",
     "text": [
      "The areas of 1st triangel is: 10.0\n"
     ]
    }
   ],
   "source": [
    "def area_triangle(base, height):\n",
    "    return(base*height)/2\n",
    "    \n",
    "area_a = area_triangle(5,4)\n",
    "print(\"The areas of 1st triangel is: \" + str(area_a))"
   ]
  },
  {
   "cell_type": "code",
   "execution_count": null,
   "id": "ad9647af-7f7c-45a9-a010-155f15dadcc7",
   "metadata": {},
   "outputs": [],
   "source": []
  },
  {
   "cell_type": "markdown",
   "id": "58ea6a19-78dc-4696-a4e9-258705e1a1eb",
   "metadata": {},
   "source": [
    "<span style='color:Red'>**Example: Time Converter** </span>"
   ]
  },
  {
   "cell_type": "markdown",
   "id": "3cdc078d-e721-4478-abcb-f422703d2966",
   "metadata": {},
   "source": [
    "**Exercise:** Calculate amount of seconds in Hrs"
   ]
  },
  {
   "cell_type": "code",
   "execution_count": 128,
   "id": "acf03475-a4c4-4b71-9875-3784e6867781",
   "metadata": {},
   "outputs": [
    {
     "name": "stdout",
     "output_type": "stream",
     "text": [
      "1 23 20\n"
     ]
    }
   ],
   "source": [
    "def convert_seconds(seconds):\n",
    "    hours = seconds // 3600\n",
    "    minutes = (seconds - hours * 3600) // 60\n",
    "    remaining_seconds = seconds - hours * 3600 - minutes * 60 \n",
    "    return hours, minutes, remaining_seconds\n",
    "\n",
    "hours, minutes, seconds = convert_seconds(5000)\n",
    "print(hours, minutes, seconds)"
   ]
  },
  {
   "cell_type": "markdown",
   "id": "d287cd82-f32c-4d5c-94aa-8b5f40b89362",
   "metadata": {},
   "source": [
    "**Alternative:** Calculate amount of minutes in hour. 90 min in hour?"
   ]
  },
  {
   "cell_type": "code",
   "execution_count": 114,
   "id": "afef8a8f-8fff-4ff4-89c3-0aa1f49013ee",
   "metadata": {},
   "outputs": [
    {
     "name": "stdout",
     "output_type": "stream",
     "text": [
      "1 hours and 30 minutes\n"
     ]
    }
   ],
   "source": [
    "def convert_minutes(minutes):\n",
    "    hours = minutes // 60\n",
    "    remaining_minutes = minutes - (hours * 60)\n",
    "    return hours, remaining_minutes\n",
    "\n",
    "hours, minutes = convert_minutes(90)\n",
    "print( str(hours) + \" hours\", \"and \" + str(minutes) + \" minutes\")"
   ]
  },
  {
   "cell_type": "code",
   "execution_count": null,
   "id": "639a2338-9b24-4f2e-a34c-e0cc4a37417a",
   "metadata": {},
   "outputs": [],
   "source": []
  },
  {
   "cell_type": "markdown",
   "id": "0a152664-3ead-4914-bf02-c84f0afeb5ae",
   "metadata": {},
   "source": [
    "**Alternative:** Calculate amount of seconds per hr/min/sec"
   ]
  },
  {
   "cell_type": "code",
   "execution_count": 120,
   "id": "0905fdb5-7b10-4dda-a693-e88befe0f831",
   "metadata": {},
   "outputs": [
    {
     "name": "stdout",
     "output_type": "stream",
     "text": [
      "0 hours  3 minutes and 20 seconds\n"
     ]
    }
   ],
   "source": [
    "def convert_seconds(seconds):\n",
    "    hours = seconds // 3600\n",
    "    minutes = (seconds % 3600) // 60\n",
    "    remaining_seconds = seconds % 60\n",
    "    return hours, minutes, remaining_seconds\n",
    "\n",
    "hours, minutes, seconds = convert_seconds(200)\n",
    "print(str(hours) + \" hours \", str(minutes) + \" minutes\", \"and \" + str(seconds) + \" seconds\")\n"
   ]
  },
  {
   "cell_type": "markdown",
   "id": "87943ec1-5c2b-4651-9ee7-3fdf627432f2",
   "metadata": {},
   "source": [
    "<span style='color:Blue'>**// operator** </span> - The // operator performs integer division on the result of the % operator. This gives us the number of minutes in the remaining seconds.  \n",
    "<span style='color:Blue'>**% operator**</span> - The % operator calculates the remainder of the division of seconds by 3600. This gives us the number of seconds that are left over after we have calculated the number of hours."
   ]
  },
  {
   "cell_type": "code",
   "execution_count": null,
   "id": "b73a05d1-9fc0-48e0-ac49-8b9c2990e9af",
   "metadata": {},
   "outputs": [],
   "source": []
  },
  {
   "cell_type": "markdown",
   "id": "d5689eed-72b8-427c-af8b-67f3c0697d9b",
   "metadata": {},
   "source": [
    "### <span style='background :yellow' >Length Function</span>"
   ]
  },
  {
   "cell_type": "markdown",
   "id": "b4cca7ac-e020-4caf-9462-1fc909efea22",
   "metadata": {},
   "source": [
    "The len function in Python is a built-in function that returns the number of items in an object. The object can be a string, list, tuple, dictionary, or any other iterable object"
   ]
  },
  {
   "cell_type": "code",
   "execution_count": 165,
   "id": "8eadddf7-691a-4eb9-af89-b210a90567a0",
   "metadata": {},
   "outputs": [
    {
     "name": "stdout",
     "output_type": "stream",
     "text": [
      "Hello, Kay! Your lucky number is: 3\n",
      "Hello, Mike! Your lucky number is: 36\n"
     ]
    }
   ],
   "source": [
    "name = \"Kay\"\n",
    "number = len(name) \n",
    "print(\"Hello, \" + name + \"! Your lucky number is: \" + str(number))\n",
    "   \n",
    "name = \"Mike\"\n",
    "number = len(name) * 9\n",
    "print(\"Hello, \" + name + \"! Your lucky number is: \" + str(number))\n",
    "      "
   ]
  },
  {
   "cell_type": "code",
   "execution_count": null,
   "id": "a0ca2d3d-a7f3-44ba-a5db-675af24923c9",
   "metadata": {},
   "outputs": [],
   "source": []
  },
  {
   "cell_type": "code",
   "execution_count": null,
   "id": "3d9a98b1-dd52-42c5-b83b-5329014c2216",
   "metadata": {},
   "outputs": [],
   "source": []
  },
  {
   "cell_type": "markdown",
   "id": "64d96276-1c0e-4622-96ac-39ef3d9f899d",
   "metadata": {},
   "source": [
    "### <span style='background :yellow' >Merge Functions & Code Reuse</span>"
   ]
  },
  {
   "cell_type": "markdown",
   "id": "bf46d4d9-5f4f-4917-a945-d8949db84d38",
   "metadata": {},
   "source": [
    "When you find code duplication in your scripts, it's a good idea to check if you can clean things up a bit by using a function. How about we rewrite this code creating a function to group all the duplicated code into just one line. The updated script gives us the exact same result as the original one, but it looks a lot cleaner. First, we've defined a function called lucky number, which carries out our calculation and prints it for us. Then we call the function twice, once with each name. Since we've grouped the calculation and print statements into a function, our code is not only easier to read but it's also now reusable. We can execute the code inside the lucky number function as many times as we need it, by just calling it with a different name. So we don't have to write it out again and again for each new name"
   ]
  },
  {
   "cell_type": "markdown",
   "id": "2adc7331-4d8d-4955-a1fc-a87ec932ef66",
   "metadata": {},
   "source": [
    "<span style='color:Red'>**Example:** </span>"
   ]
  },
  {
   "cell_type": "markdown",
   "id": "9ed42aec-a3e4-49c3-a310-bcf42aefad76",
   "metadata": {},
   "source": [
    "**Required:** Merge 2 functions together:"
   ]
  },
  {
   "cell_type": "code",
   "execution_count": 172,
   "id": "0df59c4c-e360-4f5f-82a1-311182184fd4",
   "metadata": {},
   "outputs": [
    {
     "name": "stdout",
     "output_type": "stream",
     "text": [
      "Hello, Mike! Your lucky number is: 4\n",
      "Hello, Kay! Your lucky number is: 3\n"
     ]
    }
   ],
   "source": [
    "def lucky_number(name):\n",
    "    number = len(name)\n",
    "    print(\"Hello, \" + name + \"! Your lucky number is: \" + str(number))\n",
    "\n",
    "lucky_number(\"Mike\")\n",
    "lucky_number(\"Kay\")\n",
    "\n"
   ]
  },
  {
   "cell_type": "code",
   "execution_count": null,
   "id": "4bed68c1-0d4a-4ea5-bb3a-c8c32305687c",
   "metadata": {},
   "outputs": [],
   "source": []
  },
  {
   "cell_type": "code",
   "execution_count": null,
   "id": "5256385e-8830-4c67-b037-c205aa7cfb84",
   "metadata": {},
   "outputs": [],
   "source": []
  },
  {
   "cell_type": "markdown",
   "id": "f058e241-009d-413d-b82d-018df6e541ae",
   "metadata": {},
   "source": [
    "### <span style='background :yellow' >Code Style</span>"
   ]
  },
  {
   "cell_type": "markdown",
   "id": "945bde3d-1fd2-4dee-8e34-bfb753600442",
   "metadata": {},
   "source": [
    "**Poor Style Example:**"
   ]
  },
  {
   "cell_type": "code",
   "execution_count": 184,
   "id": "6d84ae18-b270-4ada-af26-a66cc77d4f98",
   "metadata": {},
   "outputs": [
    {
     "name": "stdout",
     "output_type": "stream",
     "text": [
      "78.5\n"
     ]
    }
   ],
   "source": [
    "def calculate(d):\n",
    "    q = 3.14\n",
    "    z = q * (d**2)\n",
    "    print(z)\n",
    "    \n",
    "calculate(5)\n"
   ]
  },
  {
   "cell_type": "markdown",
   "id": "9b21a43f-865c-485d-b40b-deaff6e361f7",
   "metadata": {},
   "source": [
    "**Good Style Example:**"
   ]
  },
  {
   "cell_type": "code",
   "execution_count": 192,
   "id": "7db378be-6a36-4b2f-b288-1b49d9d1c958",
   "metadata": {},
   "outputs": [
    {
     "name": "stdout",
     "output_type": "stream",
     "text": [
      "78.5\n"
     ]
    }
   ],
   "source": [
    "def circle_area(radius):\n",
    "    pi = 3.14\n",
    "    area = pi * (radius ** 2)\n",
    "    print(area)\n",
    "    \n",
    "circle_area(5)\n"
   ]
  },
  {
   "cell_type": "markdown",
   "id": "f4e76feb-1bca-4191-bc79-fbe4f663ac57",
   "metadata": {},
   "source": [
    " **#Comment:**  Good practice to add comments to clarify things in code or simply not to forget. # do not influence on the code  \n",
    " **Example:**"
   ]
  },
  {
   "cell_type": "code",
   "execution_count": 199,
   "id": "3cd5aa7c-ae04-4327-b9e3-dd5ac954cbe8",
   "metadata": {},
   "outputs": [
    {
     "name": "stdout",
     "output_type": "stream",
     "text": [
      "78.5\n"
     ]
    }
   ],
   "source": [
    "def circle_area(radius): # This is the formula for calculation radius of a circle \n",
    "    pi = 3.14 # Pi is a constant \n",
    "    area = pi * (radius ** 2)\n",
    "    print(area)\n",
    "    \n",
    "circle_area(5)"
   ]
  },
  {
   "cell_type": "code",
   "execution_count": null,
   "id": "da6e73eb-6f87-4a7c-94d0-d3031b524644",
   "metadata": {},
   "outputs": [],
   "source": []
  },
  {
   "cell_type": "markdown",
   "id": "fe463732-77ad-46ac-bd53-e8105580b2f2",
   "metadata": {},
   "source": [
    "**Interesting Exercise From The Quiz**"
   ]
  },
  {
   "cell_type": "code",
   "execution_count": 3,
   "id": "3f042ef7-b56b-4a44-a400-1cd66f026559",
   "metadata": {},
   "outputs": [
    {
     "name": "stdout",
     "output_type": "stream",
     "text": [
      "99 100\n"
     ]
    }
   ],
   "source": [
    "# This function compares two numbers and returns them\n",
    "# in increasing order.\n",
    "def order_numbers(number1, number2):\n",
    "\tif number2 > number1:\n",
    "\t\treturn number1, number2\n",
    "\telse:\n",
    "\t\treturn number2, number1\n",
    "\n",
    "# 1) Fill in the blanks so the print statement displays the result\n",
    "#    of the function call\n",
    "smaller, bigger = order_numbers(100, 99)\n",
    "print(smaller, bigger)"
   ]
  },
  {
   "cell_type": "code",
   "execution_count": null,
   "id": "bcb1ff0c-8d88-4ade-82da-f5bcc47f38ff",
   "metadata": {},
   "outputs": [],
   "source": []
  }
 ],
 "metadata": {
  "kernelspec": {
   "display_name": "anaconda-panel-2023.05-py310",
   "language": "python",
   "name": "conda-env-anaconda-panel-2023.05-py310-py"
  },
  "language_info": {
   "codemirror_mode": {
    "name": "ipython",
    "version": 3
   },
   "file_extension": ".py",
   "mimetype": "text/x-python",
   "name": "python",
   "nbconvert_exporter": "python",
   "pygments_lexer": "ipython3",
   "version": "3.11.5"
  }
 },
 "nbformat": 4,
 "nbformat_minor": 5
}
